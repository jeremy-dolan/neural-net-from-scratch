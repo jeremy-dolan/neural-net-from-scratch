{
 "cells": [
  {
   "cell_type": "markdown",
   "metadata": {},
   "source": [
    "Let's implement a 3-layer neural network manually to make sure I understand basic NN architecture\n",
    "\n",
    "This notebook uses LeCun et al's MNIST database of handwritten digits to train and test a 3-layer fully connected neural network, without using PyTorch or TensorFlow."
   ]
  },
  {
   "cell_type": "markdown",
   "metadata": {},
   "source": [
    "Verify dataset exists or download it:"
   ]
  },
  {
   "cell_type": "code",
   "execution_count": 1,
   "metadata": {},
   "outputs": [
    {
     "name": "stdout",
     "output_type": "stream",
     "text": [
      "Downloading training set images from https://cseweb.ucsd.edu/~weijian/static/datasets/mnist/train-images-idx3-ubyte.gz\n",
      "training set images saved to datasets/train-images-idx3-ubyte.gz\n",
      "Downloading training set labels from https://cseweb.ucsd.edu/~weijian/static/datasets/mnist/train-labels-idx1-ubyte.gz\n",
      "training set labels saved to datasets/train-labels-idx1-ubyte.gz\n",
      "Downloading test set images from https://cseweb.ucsd.edu/~weijian/static/datasets/mnist/t10k-images-idx3-ubyte.gz\n",
      "test set images saved to datasets/t10k-images-idx3-ubyte.gz\n",
      "Downloading test set labels from https://cseweb.ucsd.edu/~weijian/static/datasets/mnist/t10k-labels-idx1-ubyte.gz\n",
      "test set labels saved to datasets/t10k-labels-idx1-ubyte.gz\n"
     ]
    }
   ],
   "source": [
    "import os\n",
    "import requests\n",
    "\n",
    "datasets = {\n",
    "    'training set images': 'train-images-idx3-ubyte.gz',\n",
    "    'training set labels': 'train-labels-idx1-ubyte.gz',\n",
    "    'test set images': 't10k-images-idx3-ubyte.gz',\n",
    "    'test set labels': 't10k-labels-idx1-ubyte.gz',\n",
    "}\n",
    "remote_path = 'http://yann.lecun.com/exdb/mnist/'\n",
    "remote_path = 'https://cseweb.ucsd.edu/~weijian/static/datasets/mnist/' # lecun's site gives http error 403 (2024/05/26)\n",
    "local_path = 'datasets'\n",
    "\n",
    "if not os.path.exists(local_path):\n",
    "    os.mkdir(local_path)\n",
    "\n",
    "for dataset_name, filename in datasets.items():\n",
    "    local_file = os.path.join(local_path, filename)\n",
    "    if os.path.exists(local_file):\n",
    "        print(f'{dataset_name} ({local_file}) exists')\n",
    "    else:\n",
    "        print(f'Downloading {dataset_name} from {remote_path + filename}')\n",
    "        response = requests.get(remote_path + filename)\n",
    "        response.raise_for_status()\n",
    "        # Open file in write-binary mode, write response content to it:\n",
    "        with open(local_file, 'wb') as file:\n",
    "            file.write(response.content)\n",
    "            print(f\"{dataset_name} saved to {local_file}\")\n"
   ]
  },
  {
   "cell_type": "markdown",
   "metadata": {},
   "source": [
    "Load the training data.\n",
    "\n",
    "Format spec:\n",
    "\n",
    "<small><pre>\n",
    "TRAINING SET LABEL FILE (train-labels-idx1-ubyte):\n",
    "[offset] [type]          [value]          [description]\n",
    "0000     32 bit integer  0x00000801(2049) magic number (MSB first)\n",
    "0004     32 bit integer  60000            number of items\n",
    "0008     unsigned byte   ??               label (values 0 to 9)\n",
    "........\n",
    "xxxx     unsigned byte   ??               label\n",
    "\n",
    "TRAINING SET IMAGE FILE (train-images-idx3-ubyte):\n",
    "[offset] [type]          [value]          [description]\n",
    "0000     32 bit integer  0x00000803(2051) magic number\n",
    "0004     32 bit integer  60000            number of images\n",
    "0008     32 bit integer  28               number of rows\n",
    "0012     32 bit integer  28               number of columns\n",
    "0016     unsigned byte   ??               pixel (organized row-wise, values 0..255, 0 means background, 255 means foreground)\n",
    "........\n",
    "xxxx     unsigned byte   ??               pixel\n",
    "</pre></small>"
   ]
  },
  {
   "cell_type": "code",
   "execution_count": 2,
   "metadata": {},
   "outputs": [
    {
     "name": "stdout",
     "output_type": "stream",
     "text": [
      "Loaded 60000 labels.\n",
      "Loaded 60000 images with size [28, 28].\n"
     ]
    }
   ],
   "source": [
    "import gzip\n",
    "import struct\n",
    "import numpy as np\n",
    "\n",
    "label_file = local_path + '/' + datasets['training set labels']\n",
    "image_file = local_path + '/' + datasets['training set images']\n",
    "\n",
    "def check_data(label_file:str, image_file:str):\n",
    "    '''check if data files look valid and have the same number of records'''\n",
    "    with gzip.open(label_file, 'rb') as gz_labels:\n",
    "        labels_data_header = gz_labels.read(8)\n",
    "        labels_magic_num = struct.unpack('>i', labels_data_header[0:4])[0]\n",
    "        labels_count = struct.unpack('>i', labels_data_header[4:8])[0]\n",
    "    with open(label_file, 'rb') as labels:\n",
    "        # gzip stores the uncompressed size as the last 4 bytes of the file\n",
    "        labels.seek(-4, 2)\n",
    "        file_footer = labels.read(4)\n",
    "        labels_data_size = struct.unpack('<I', file_footer)[0]\n",
    "    with gzip.open(image_file, 'rb') as gz_images:\n",
    "        images_data_header = gz_images.read(16)\n",
    "        images_magic_num = struct.unpack('>i', images_data_header[0:4])[0]\n",
    "        images_count = struct.unpack('>i', images_data_header[4:8])[0]\n",
    "        image_format_rows = struct.unpack('>i', images_data_header[8:12])[0]\n",
    "        image_format_cols = struct.unpack('>i', images_data_header[12:16])[0]\n",
    "    with open(image_file, 'rb') as images:\n",
    "        images.seek(-4, 2)\n",
    "        file_footer = images.read(4)\n",
    "        images_data_size = struct.unpack('<I', file_footer)[0]\n",
    "\n",
    "    assert labels_magic_num == 2049 # indicates data is unsigned bytes in 1-dimension\n",
    "    assert images_magic_num == 2051 # indicates data is unsigned bytes in 3-dimensions\n",
    "    assert labels_count == images_count\n",
    "    assert labels_data_size == labels_count + 8\n",
    "    assert images_data_size == images_count*image_format_rows*image_format_cols + 16\n",
    "\n",
    "    return(images_count, [image_format_rows, image_format_cols])\n",
    "\n",
    "\n",
    "(num_records, image_dimensions) = check_data(label_file, image_file)\n",
    "\n",
    "with gzip.open(label_file, 'rb') as f:\n",
    "    header_length = 8\n",
    "    f.seek(header_length)\n",
    "    buffer = f.read()\n",
    "\n",
    "    training_labels = np.frombuffer(buffer, dtype=np.uint8)\n",
    "    del buffer\n",
    "\n",
    "    print(f'Loaded {len(training_labels)} labels.')\n",
    "\n",
    "with gzip.open(image_file, 'rb') as f:\n",
    "    header_length = 16\n",
    "    f.seek(header_length)\n",
    "    buffer = f.read()\n",
    "\n",
    "    training_images = np.frombuffer(buffer, dtype=np.uint8)\n",
    "    training_images = training_images.reshape(num_records, np.prod(image_dimensions))\n",
    "    del buffer\n",
    "\n",
    "    print(f'Loaded {len(training_images)} images with size {image_dimensions}.')"
   ]
  },
  {
   "cell_type": "markdown",
   "metadata": {},
   "source": [
    "Peek the last image in the set (should be an 8)"
   ]
  },
  {
   "cell_type": "code",
   "execution_count": 3,
   "metadata": {},
   "outputs": [
    {
     "data": {
      "image/png": "[encoded data removed]",
      "text/plain": [
       "<Figure size 480x480 with 1 Axes>"
      ]
     },
     "metadata": {},
     "output_type": "display_data"
    }
   ],
   "source": [
    "import matplotlib.pyplot as plt\n",
    "\n",
    "digit = training_images[-1].reshape(image_dimensions)\n",
    "plt.matshow(digit, cmap='gray_r')   # imshow wrapper for matrix-like data\n",
    "plt.title(f'image#{num_records} label={training_labels[-1]}')\n",
    "plt.show()"
   ]
  },
  {
   "cell_type": "markdown",
   "metadata": {},
   "source": [
    "We have data. Now let's spec out the neural network:\n",
    "\n",
    "784 inputs (pixel values) --> fc layer 1 (16 nodes) --> fc layer 2 (16 nodes) --> output layer (10 categories)\n",
    "\n",
    "So: each neuron in layer 1 will have 784 weights plus a bias.\n",
    "\n",
    "What data structure to use for storing the weights?\n",
    " * On the forward pass, we need to take their dot product with incoming signal\n",
    " * On backprop, ..."
   ]
  },
  {
   "cell_type": "code",
   "execution_count": 4,
   "metadata": {},
   "outputs": [
    {
     "name": "stdout",
     "output_type": "stream",
     "text": [
      "(16, 784)\n",
      "[[ 0.10050853  0.1234897   0.0619147  -0.16747306 ...  0.18999679 -0.13373601 -0.04873583 -0.19450642]\n",
      " [-0.02367538 -0.13258008 -0.09556652 -0.03053395 ... -0.18323824  0.09442131 -0.18116567  0.03835421]\n",
      " [-0.01049897  0.03035173 -0.18346946  0.09125276 ...  0.08302591  0.00882349 -0.14647626 -0.17388251]\n",
      " [ 0.0401173  -0.0738216   0.05970597 -0.11306976 ...  0.17921072 -0.17165295  0.10606366  0.15465741]\n",
      " ...\n",
      " [-0.09613696  0.10564533 -0.0861699   0.11706248 ...  0.08082174 -0.14711954 -0.03889234  0.12138033]\n",
      " [ 0.15649577  0.08474103 -0.15106879 -0.12564128 ...  0.00082131 -0.10378666  0.13977561 -0.05499227]\n",
      " [-0.17630619  0.09459483 -0.05766269 -0.06446186 ... -0.14725138  0.05089891  0.14988666 -0.03737175]\n",
      " [ 0.00568958 -0.09328661  0.1780517   0.09297012 ... -0.18982055  0.1991822  -0.08061143  0.13186349]]\n"
     ]
    }
   ],
   "source": [
    "inputs = 784\n",
    "layer_1_nodes = 16\n",
    "layer_2_nodes = 16\n",
    "output_layer_nodes = 10\n",
    "\n",
    "# initialize our net with small random weights (sampled from uniform distribution)\n",
    "# todo: does enclosing the ndarrays in a Python list slow access?\n",
    "#    better idea?: don't use numpy vectors at all; spell out all the computation with vanilla Python\n",
    "# todo: compare performance if He initiation is used, https://arxiv.org/abs/1502.01852\n",
    "# todo: make a Layer and Network class\n",
    "W = [\n",
    "    np.random.uniform(low=-0.2, high=0.2, size=(layer_1_nodes, inputs)),            # 16 sets of 784 weights (for layer 1)\n",
    "    np.random.uniform(low=-0.2, high=0.2, size=(layer_2_nodes, layer_1_nodes)),     # 16 sets of 16 weights (for layer 2)\n",
    "    np.random.uniform(low=-0.2, high=0.2, size=(output_layer_nodes, layer_2_nodes)) # 10 sets of 16 weights (for output layer)\n",
    "]\n",
    "\n",
    "with np.printoptions(suppress=True, linewidth=120, edgeitems=4):\n",
    "    print(np.shape(W[0]))\n",
    "    print(W[0])"
   ]
  },
  {
   "cell_type": "code",
   "execution_count": 5,
   "metadata": {},
   "outputs": [
    {
     "name": "stdout",
     "output_type": "stream",
     "text": [
      "(16,)\n"
     ]
    },
    {
     "data": {
      "text/plain": [
       "[array([0., 0., 0., 0., 0., 0., 0., 0., 0., 0., 0., 0., 0., 0., 0., 0.]),\n",
       " array([0., 0., 0., 0., 0., 0., 0., 0., 0., 0., 0., 0., 0., 0., 0., 0.]),\n",
       " array([0., 0., 0., 0., 0., 0., 0., 0., 0., 0.])]"
      ]
     },
     "execution_count": 5,
     "metadata": {},
     "output_type": "execute_result"
    }
   ],
   "source": [
    "# biases start at zero\n",
    "B = [\n",
    "    np.zeros(layer_1_nodes),\n",
    "    np.zeros(layer_2_nodes),\n",
    "    np.zeros(output_layer_nodes),\n",
    "]\n",
    "print(np.shape(B[0]))\n",
    "B\n",
    "\n",
    "# todo: we might want these as part of the weight array, to make the processing a single dot product"
   ]
  },
  {
   "cell_type": "code",
   "execution_count": 6,
   "metadata": {},
   "outputs": [],
   "source": [
    "# activation function for hidden layers\n",
    "def ReLU(X):\n",
    "    '''rectified linear unit function, aka squash at zero'''\n",
    "    return np.maximum(0, X)\n",
    "\n",
    "\n",
    "# normalization function for output layer\n",
    "def softmax(V):\n",
    "    '''transform a vector into a probability distribution'''\n",
    "    exp_V = np.exp(V)           # exponentiate each logit\n",
    "    PD = exp_V / np.sum(exp_V)  # normalize\n",
    "    return PD\n",
    "\n",
    "\n",
    "# loss function\n",
    "def mse(y_actual:np.ndarray, y_predicted:np.ndarray) -> int:\n",
    "    '''mean squared error between y and ŷ'''\n",
    "    diff = y_actual - y_predicted\n",
    "    squared = np.power(diff, 2)\n",
    "    se = np.sum(squared)\n",
    "    mse = se/len(y_actual)\n",
    "    return mse"
   ]
  },
  {
   "cell_type": "code",
   "execution_count": 7,
   "metadata": {},
   "outputs": [
    {
     "name": "stdout",
     "output_type": "stream",
     "text": [
      "[0.000\n",
      " 0.000\n",
      " 0.000\n",
      " 0.000\n",
      " 0.000\n",
      " 0.000\n",
      " 0.192\n",
      " 0.808\n",
      " 0.000\n",
      " 0.000]\n",
      "sum = 0.9999999999999999\n"
     ]
    }
   ],
   "source": [
    "# mock feed forward:\n",
    "\n",
    "X     = training_images[0]\n",
    "A1    =    ReLU(np.dot(W[0], X ) + B[0])   # first hidden layer activation\n",
    "A2    =    ReLU(np.dot(W[1], A1) + B[1])   # second hidden layer activation\n",
    "Y_hat = softmax(np.dot(W[2], A2) + B[2])   # output prediction\n",
    "\n",
    "with np.printoptions(suppress=True, precision=3, floatmode='fixed', linewidth=10):\n",
    "    print(Y_hat)\n",
    "    print(f'sum = {np.sum(Y_hat)}')"
   ]
  },
  {
   "cell_type": "code",
   "execution_count": 8,
   "metadata": {},
   "outputs": [
    {
     "name": "stdout",
     "output_type": "stream",
     "text": [
      "y\tŷ\n",
      "0.000\t0.000\n",
      "0.000\t0.000\n",
      "0.000\t0.000\n",
      "0.000\t0.000\n",
      "0.000\t0.000\n",
      "1.000\t0.000\n",
      "0.000\t0.192\n",
      "0.000\t0.808\n",
      "0.000\t0.000\n",
      "0.000\t0.000\n",
      "loss=0.169\n"
     ]
    }
   ],
   "source": [
    "  # construct a one-hot encoded vector for actual (observed) label:\n",
    "Y = np.zeros(10)            # 0 for all output nodes except...\n",
    "Y[training_labels[0]] = 1.  # 1 for category specified by label data\n",
    "\n",
    "# compute the loss\n",
    "loss = mse(Y, Y_hat)\n",
    "\n",
    "# compare and display\n",
    "with np.printoptions(suppress=True, precision=3, floatmode='fixed'):\n",
    "    print('y\\tŷ')\n",
    "    for i in range(10):\n",
    "        print(f'{Y[i]:.3f}\\t{Y_hat[i]:.3f}')\n",
    "\n",
    "print(f'{loss=:.3f}')"
   ]
  }
 ],
 "metadata": {
  "kernelspec": {
   "display_name": "Python 3",
   "language": "python",
   "name": "python3"
  },
  "language_info": {
   "codemirror_mode": {
    "name": "ipython",
    "version": 3
   },
   "file_extension": ".py",
   "mimetype": "text/x-python",
   "name": "python",
   "nbconvert_exporter": "python",
   "pygments_lexer": "ipython3",
   "version": "3.11.2"
  }
 },
 "nbformat": 4,
 "nbformat_minor": 2
}
