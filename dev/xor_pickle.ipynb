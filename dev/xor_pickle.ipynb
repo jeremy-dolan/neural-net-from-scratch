{
 "cells": [
  {
   "cell_type": "code",
   "execution_count": null,
   "metadata": {},
   "outputs": [],
   "source": [
    "# save net and training data\n",
    "# commented out to avoid accidental overwrite\n",
    "\n",
    "# import pickle\n",
    "\n",
    "# variables_to_save = {\n",
    "#     'xor_net': xor_net,\n",
    "#     'xor_training': xor_training,\n",
    "#     'xor_alt': xor_alt,\n",
    "# }\n",
    "# with open('xor-extras/xor_nets.pkl', 'wb') as f:\n",
    "#     pickle.dump(variables_to_save, f)"
   ]
  },
  {
   "cell_type": "code",
   "execution_count": null,
   "metadata": {},
   "outputs": [],
   "source": [
    "# reload\n",
    "\n",
    "import pickle\n",
    "\n",
    "with open('xor-extras/xor_nets.pkl', 'rb') as f:\n",
    "    loaded_variables = pickle.load(f)\n",
    "\n",
    "xor_net = loaded_variables['xor_net']\n",
    "xor_training = loaded_variables['xor_training']\n",
    "xor_alt = loaded_variables['xor_alt']\n",
    "\n",
    "from neural_net_vanilla import *\n",
    "import plots.xor"
   ]
  }
 ],
 "metadata": {
  "language_info": {
   "name": "python"
  }
 },
 "nbformat": 4,
 "nbformat_minor": 2
}
