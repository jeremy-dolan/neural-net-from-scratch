{
 "cells": [
  {
   "cell_type": "code",
   "execution_count": null,
   "metadata": {},
   "outputs": [],
   "source": [
    "# use finite difference approximation to check our gradient algorithms:\n",
    "e = 0.0001\n",
    "\n",
    "# Layer 1 Node 1:\n",
    "l1n1a = sigmoid(x[0] * xor_net.layers[0].nodes[0].weights[0] + \\\n",
    "                x[1] * xor_net.layers[0].nodes[0].weights[1] + \\\n",
    "                       xor_net.layers[0].nodes[0].bias)\n",
    "# Layer 1 Node 2:\n",
    "l1n2a = sigmoid(x[0] * xor_net.layers[0].nodes[1].weights[0] + \\\n",
    "                x[1] * xor_net.layers[0].nodes[1].weights[1] + \\\n",
    "                       xor_net.layers[0].nodes[1].bias)\n",
    "# Layer 2 Node 1 (output node):\n",
    "y_hat = sigmoid(l1n1a * xor_net.layers[1].nodes[0].weights[0] + \\\n",
    "                l1n2a * xor_net.layers[1].nodes[0].weights[1] + \\\n",
    "                        xor_net.layers[1].nodes[0].bias)\n",
    "loss = log_loss(y, y_hat)\n",
    "\n",
    "\n",
    "# introduce a difference to some one term:\n",
    "l1n1a = sigmoid(x[0] * (xor_net.layers[0].nodes[0].weights[0] + 0) + \\\n",
    "                x[1] * xor_net.layers[0].nodes[0].weights[1] + \\\n",
    "                       xor_net.layers[0].nodes[0].bias + 0)\n",
    "l1n2a = sigmoid(x[0] * (xor_net.layers[0].nodes[1].weights[0] + e) + \\\n",
    "                x[1] * xor_net.layers[0].nodes[1].weights[1] + \\\n",
    "                       xor_net.layers[0].nodes[1].bias)\n",
    "y_hat = sigmoid(l1n1a * xor_net.layers[1].nodes[0].weights[0] + \\\n",
    "                l1n2a * xor_net.layers[1].nodes[0].weights[1] + \\\n",
    "                        xor_net.layers[1].nodes[0].bias)\n",
    "loss_e = log_loss(y, y_hat)\n",
    "\n",
    "print (f'dL/d[e] = {(loss_e - loss)/e}')"
   ]
  }
 ],
 "metadata": {
  "language_info": {
   "name": "python"
  }
 },
 "nbformat": 4,
 "nbformat_minor": 2
}
