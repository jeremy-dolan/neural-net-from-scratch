{
 "cells": [
  {
   "cell_type": "markdown",
   "metadata": {},
   "source": [
    "TODO: turn this into a unit test"
   ]
  },
  {
   "cell_type": "code",
   "execution_count": 1,
   "metadata": {},
   "outputs": [],
   "source": [
    "import sys\n",
    "import os\n",
    "parent_dir = os.path.abspath(os.path.join(os.getcwd(), '..'))\n",
    "sys.path.insert(0, parent_dir)\n",
    "\n",
    "from mlp_framework_vanilla import *"
   ]
  },
  {
   "cell_type": "code",
   "execution_count": 2,
   "metadata": {},
   "outputs": [],
   "source": [
    "test_net = Net(2, [2, 1], [sigmoid]*2, log_loss)\n",
    "\n",
    "training = [\n",
    "    {'x': [0,0], 'y': [0]},\n",
    "    {'x': [0,1], 'y': [1]},\n",
    "    {'x': [1,1], 'y': [0]},\n",
    "]\n",
    "x = [2, 1]\n",
    "y = [1]"
   ]
  },
  {
   "cell_type": "code",
   "execution_count": 3,
   "metadata": {},
   "outputs": [
    {
     "name": "stdout",
     "output_type": "stream",
     "text": [
      "epoch  500 complete, 1 batch, training_loss=0.52770\n",
      "epoch 1000 complete, 1 batch, training_loss=0.20499\n"
     ]
    }
   ],
   "source": [
    "test_net.train(training, epochs=1_000, epoch_progress_every=500)\n",
    "activations = test_net.forward(x)\n",
    "gradients = test_net.backward(x, y, activations)"
   ]
  },
  {
   "cell_type": "code",
   "execution_count": 4,
   "metadata": {},
   "outputs": [
    {
     "data": {
      "text/plain": [
       "[[[0.38912063495300986, 0.19456031747650493],\n",
       "  [0.15677245453900926, 0.07838622726950463]],\n",
       " [[-0.8968413039772322, -0.9573849401356327]]]"
      ]
     },
     "execution_count": 4,
     "metadata": {},
     "output_type": "execute_result"
    }
   ],
   "source": [
    "gradients['weight']"
   ]
  },
  {
   "cell_type": "code",
   "execution_count": 5,
   "metadata": {},
   "outputs": [
    {
     "name": "stdout",
     "output_type": "stream",
     "text": [
      "dL/d[e] = 0.3890885374291386\n"
     ]
    }
   ],
   "source": [
    "def _sigmoid(v): # devectorize\n",
    "    return sigmoid([v])[0]\n",
    "\n",
    "# use finite difference approximation to check our gradient algorithms:\n",
    "e = 0.0001\n",
    "\n",
    "# Simulate a normal forward pass:\n",
    "# Layer 1 Node 1:\n",
    "l1n1a = _sigmoid(x[0] * test_net.layers[0].nodes[0].weights[0] + \\\n",
    "                 x[1] * test_net.layers[0].nodes[0].weights[1] + \\\n",
    "                        test_net.layers[0].nodes[0].bias + 0)\n",
    "# Layer 1 Node 2:\n",
    "l1n2a = _sigmoid(x[0] * test_net.layers[0].nodes[1].weights[0] + \\\n",
    "                 x[1] * test_net.layers[0].nodes[1].weights[1] + \\\n",
    "                        test_net.layers[0].nodes[1].bias)\n",
    "# Layer 2 Node 1 (output node):\n",
    "y_hat = _sigmoid(l1n1a * test_net.layers[1].nodes[0].weights[0] + \\\n",
    "                 l1n2a * test_net.layers[1].nodes[0].weights[1] + \\\n",
    "                         test_net.layers[1].nodes[0].bias)\n",
    "loss = log_loss(y, [y_hat])\n",
    "\n",
    "# Introduce a difference to some one term (move around the 'e'):\n",
    "l1n1a = _sigmoid(x[0] * (test_net.layers[0].nodes[0].weights[0] + e) + \\\n",
    "                 x[1] * (test_net.layers[0].nodes[0].weights[1] + 0) + \\\n",
    "                        (test_net.layers[0].nodes[0].bias + 0))\n",
    "l1n2a  = _sigmoid(x[0] * (test_net.layers[0].nodes[1].weights[0] + 0) + \\\n",
    "                  x[1] * (test_net.layers[0].nodes[1].weights[1] + 0) + \\\n",
    "                         (test_net.layers[0].nodes[1].bias + 0))\n",
    "y_hat = _sigmoid(l1n1a * (test_net.layers[1].nodes[0].weights[0] + 0) + \\\n",
    "                 l1n2a * (test_net.layers[1].nodes[0].weights[1] + 0) + \\\n",
    "                         (test_net.layers[1].nodes[0].bias + 0))\n",
    "loss_e = log_loss(y, [y_hat])\n",
    "\n",
    "print (f'dL/d[e] = {(loss_e - loss)/e}')"
   ]
  }
 ],
 "metadata": {
  "kernelspec": {
   "display_name": "Python 3",
   "language": "python",
   "name": "python3"
  },
  "language_info": {
   "codemirror_mode": {
    "name": "ipython",
    "version": 3
   },
   "file_extension": ".py",
   "mimetype": "text/x-python",
   "name": "python",
   "nbconvert_exporter": "python",
   "pygments_lexer": "ipython3",
   "version": "3.11.2"
  }
 },
 "nbformat": 4,
 "nbformat_minor": 2
}
